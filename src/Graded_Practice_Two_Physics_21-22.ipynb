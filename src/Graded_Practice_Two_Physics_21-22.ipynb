{
 "cells": [
  {
   "cell_type": "markdown",
   "metadata": {},
   "source": [
    "Before you turn this problem in, make sure everything runs as expected. First, **restart the kernel** (in the menubar, select Kernel$\\rightarrow$Restart) and then **run all cells** (in the menubar, select Cell$\\rightarrow$Run All).\n",
    "\n",
    "Make sure you fill in any place that says `YOUR CODE HERE` or \"YOUR ANSWER HERE\", as well as your name and collaborators below:"
   ]
  },
  {
   "cell_type": "code",
   "execution_count": null,
   "metadata": {},
   "outputs": [],
   "source": [
    "NAME = \"\"\n",
    "COLLABORATORS = \"\""
   ]
  },
  {
   "cell_type": "markdown",
   "metadata": {},
   "source": [
    "---"
   ]
  },
  {
   "cell_type": "markdown",
   "metadata": {},
   "source": [
    "# **Practice 12: Solving PDEs with finite differences**"
   ]
  },
  {
   "cell_type": "markdown",
   "metadata": {},
   "source": [
    "## Practice guide\n",
    "\n",
    "In this second graded practice you have to solve the exercises below. The codes you need to solve this problems are similar, but not the same, to some of the codes from the regular practices.\n",
    "\n",
    "You will have to handle a notebook with:\n",
    "\n",
    "* The working programs that solve the exercises. I will run all the codes.\n",
    "* An explanation of the methods you are using.\n",
    "* An explanation of your procedure to calculate the solutions.\n",
    "* An explanation of the results."
   ]
  },
  {
   "cell_type": "markdown",
   "metadata": {},
   "source": [
    "## 1- Temperature around a radiactive rod\n",
    "\n",
    "Let us suppose that we want to calculate the change in temperature around a radiactive rod buried on the ground. The temperature $T$ fulfills the following equation in polar coordinates:\n",
    "\n",
    "$$\\frac{1}{\\kappa}\\frac{\\partial T}{\\partial t}-\\frac{\\partial^2 T}{\\partial r^2}-\\frac{1}{r}\\frac{\\partial T}{\\partial r} = S(r, t)$$\n",
    "\n",
    "where the source term due to the radioactive decay of rod is given by:\n",
    "\n",
    "$$ S(r, t) = \\left\\{\\begin{array}{l}\n",
    "T_{rod}e^{−t/\\tau_0} /a^2 \\quad \\textrm{for}\\; r \\leq a \\\\\n",
    "0 \\qquad \\qquad \\quad \\textrm{elsewhere}.\n",
    "\\end{array}\\right.$$\n",
    "\n",
    "where the radius of the rod is $a = 25\\;cm$, the diffusion coefficient is $\\kappa = 2 \\cdot 10^7 \\;cm^2/year$, the rod's temperature is  $T_{rod} = 1K$, final time $\\tau_0 = 100\\; years$, the radius of the domain where we want to solve the equation is $r_c = 100\\;cm$, the environment's temperature is $T_E = 300\\;K$, $0 < r < r_c$ and $0 < t < \\tau_0$. Initially $T(r, t = 0) = 3$.\n",
    "\n",
    "This is complemented with the boundary conditions\n",
    "\n",
    "$$ \\frac{\\partial T}{\\partial r}(r = 0, t) = 0 \\; \\textrm{ and } \\; T(r = r_c, t) = 300K$$\n",
    "\n",
    "**Exercises:** \n",
    "\n",
    "1. Solve this equation using a finite differences method.\n"
   ]
  },
  {
   "cell_type": "markdown",
   "metadata": {},
   "source": [
    "## 2- Wave equation\n",
    "\n",
    "This is the wave equation with the corresponding initial conditions and periodic boundary conditions\n",
    "\n",
    "$$\\begin{array}{l}\n",
    "u_{tt}=u_{xx} \\\\\n",
    "u(x,0) = \\sin{(4\\pi x)} \\\\\n",
    "u_t(x,0)=0 \\\\\n",
    "u(0,t)=u(1,t)\n",
    "\\end{array} $$\n",
    "\n",
    "\n",
    "\n",
    "**Exercises:**\n",
    "\n",
    "1. Solve the equation using finite differences.\n",
    "2. Solve the equation up to time $t=100$ with different time-steps $\\Delta t$ bigger, equal and smaller than the $\\Delta x$. Explain the results."
   ]
  },
  {
   "cell_type": "markdown",
   "metadata": {},
   "source": [
    "# Solution"
   ]
  },
  {
   "cell_type": "markdown",
   "metadata": {},
   "source": [
    "### Imports"
   ]
  },
  {
   "cell_type": "code",
   "execution_count": null,
   "metadata": {},
   "outputs": [],
   "source": [
    "import numpy as np"
   ]
  },
  {
   "cell_type": "markdown",
   "metadata": {},
   "source": [
    "## Question 1"
   ]
  },
  {
   "cell_type": "markdown",
   "metadata": {},
   "source": [
    "## Question 2"
   ]
  },
  {
   "cell_type": "markdown",
   "metadata": {},
   "source": [
    "### Utilmethods"
   ]
  },
  {
   "cell_type": "code",
   "execution_count": null,
   "metadata": {},
   "outputs": [],
   "source": [
    "def hyperbolic(h: float, k: float, x0: float, xf: float, t0: float, tf: float, u0: Callable) -> Tuple[np.ndarray]:\n",
    "\n",
    "    rho = (k/h)**2\n",
    "\n",
    "    x = np.arange(x0, xf+h, h)\n",
    "    t = np.arange(t0, tf+h, h)\n",
    "\n",
    "    LEN_X = len(x)\n",
    "    LEN_T = len(t)\n",
    "\n",
    "    sol = np.zeros((LEN_X, LEN_T))\n",
    "\n",
    "    sol[1:-1, 0] = u0(x)\n",
    "\n",
    "    sol[1:-1, 1] = 1/2 * rho * (u0(x+h)[1:-1] - u0(x-h)[1:-1]) + (1 - rho) * u0(x)\n",
    "\n",
    "    for ti in range(2, LEN_T):\n",
    "        sol[1:-1, ti] = rho*sol[2:, ti] + 2*(1 - rho)*sol[:, ti] + rho*sol[:-2, ti]  - sol[:, ti-1]\n",
    "\n",
    "    return sol, x, t"
   ]
  }
 ],
 "metadata": {
  "kernelspec": {
   "display_name": "Python 3",
   "language": "python",
   "name": "python3"
  },
  "language_info": {
   "codemirror_mode": {
    "name": "ipython",
    "version": 3
   },
   "file_extension": ".py",
   "mimetype": "text/x-python",
   "name": "python",
   "nbconvert_exporter": "python",
   "pygments_lexer": "ipython3",
   "version": "3.10.4"
  }
 },
 "nbformat": 4,
 "nbformat_minor": 4
}
