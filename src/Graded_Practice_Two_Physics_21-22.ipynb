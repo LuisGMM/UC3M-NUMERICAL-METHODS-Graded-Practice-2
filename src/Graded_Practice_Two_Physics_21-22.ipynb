{
 "cells": [
  {
   "cell_type": "markdown",
   "metadata": {},
   "source": [
    "Before you turn this problem in, make sure everything runs as expected. First, **restart the kernel** (in the menubar, select Kernel$\\rightarrow$Restart) and then **run all cells** (in the menubar, select Cell$\\rightarrow$Run All).\n",
    "\n",
    "Make sure you fill in any place that says `YOUR CODE HERE` or \"YOUR ANSWER HERE\", as well as your name and collaborators below:"
   ]
  },
  {
   "cell_type": "code",
   "execution_count": 71,
   "metadata": {},
   "outputs": [],
   "source": [
    "NAME = \"\"\n",
    "COLLABORATORS = \"\""
   ]
  },
  {
   "cell_type": "markdown",
   "metadata": {},
   "source": [
    "---"
   ]
  },
  {
   "cell_type": "markdown",
   "metadata": {},
   "source": [
    "# **Practice 12: Solving PDEs with finite differences**"
   ]
  },
  {
   "cell_type": "markdown",
   "metadata": {},
   "source": [
    "## Practice guide\n",
    "\n",
    "In this second graded practice you have to solve the exercises below. The codes you need to solve this problems are similar, but not the same, to some of the codes from the regular practices.\n",
    "\n",
    "You will have to handle a notebook with:\n",
    "\n",
    "* The working programs that solve the exercises. I will run all the codes.\n",
    "* An explanation of the methods you are using.\n",
    "* An explanation of your procedure to calculate the solutions.\n",
    "* An explanation of the results."
   ]
  },
  {
   "cell_type": "markdown",
   "metadata": {},
   "source": [
    "## 1- Temperature around a radiactive rod\n",
    "\n",
    "Let us suppose that we want to calculate the change in temperature around a radiactive rod buried on the ground. The temperature $T$ fulfills the following equation in polar coordinates:\n",
    "\n",
    "$$\\frac{1}{\\kappa}\\frac{\\partial T}{\\partial t}-\\frac{\\partial^2 T}{\\partial r^2}-\\frac{1}{r}\\frac{\\partial T}{\\partial r} = S(r, t)$$\n",
    "\n",
    "where the source term due to the radioactive decay of rod is given by:\n",
    "\n",
    "$$ S(r, t) = \\left\\{\\begin{array}{l}\n",
    "T_{rod}e^{−t/\\tau_0} /a^2 \\quad \\textrm{for}\\; r \\leq a \\\\\n",
    "0 \\qquad \\qquad \\quad \\textrm{elsewhere}.\n",
    "\\end{array}\\right.$$\n",
    "\n",
    "where the radius of the rod is $a = 25\\;cm$, the diffusion coefficient is $\\kappa = 2 \\cdot 10^7 \\;cm^2/year$, the rod's temperature is  $T_{rod} = 1K$, final time $\\tau_0 = 100\\; years$, the radius of the domain where we want to solve the equation is $r_c = 100\\;cm$, the environment's temperature is $T_E = 300\\;K$, $0 < r < r_c$ and $0 < t < \\tau_0$. Initially $T(r, t = 0) = 3$.\n",
    "\n",
    "This is complemented with the boundary conditions\n",
    "\n",
    "$$ \\frac{\\partial T}{\\partial r}(r = 0, t) = 0 \\; \\textrm{ and } \\; T(r = r_c, t) = 300K$$\n",
    "\n",
    "**Exercises:** \n",
    "\n",
    "1. Solve this equation using a finite differences method.\n"
   ]
  },
  {
   "cell_type": "markdown",
   "metadata": {},
   "source": [
    "## 2- Wave equation\n",
    "\n",
    "This is the wave equation with the corresponding initial conditions and periodic boundary conditions\n",
    "\n",
    "$$\\begin{array}{l}\n",
    "u_{tt}=u_{xx} \\\\\n",
    "u(x,0) = \\sin{(4\\pi x)} \\\\\n",
    "u_t(x,0)=0 \\\\\n",
    "u(0,t)=u(1,t)\n",
    "\\end{array} $$\n",
    "\n",
    "\n",
    "\n",
    "**Exercises:**\n",
    "\n",
    "1. Solve the equation using finite differences.\n",
    "2. Solve the equation up to time $t=100$ with different time-steps $\\Delta t$ bigger, equal and smaller than the $\\Delta x$. Explain the results."
   ]
  },
  {
   "cell_type": "markdown",
   "metadata": {},
   "source": [
    "# Solution"
   ]
  },
  {
   "cell_type": "markdown",
   "metadata": {},
   "source": [
    "### Imports"
   ]
  },
  {
   "cell_type": "code",
   "execution_count": 72,
   "metadata": {},
   "outputs": [],
   "source": [
    "import numpy as np\n",
    "from typing import Callable, Tuple\n",
    "\n",
    "import matplotlib.pyplot as plt\n",
    "from matplotlib.animation import  FuncAnimation"
   ]
  },
  {
   "cell_type": "markdown",
   "metadata": {},
   "source": [
    "## Question 1"
   ]
  },
  {
   "cell_type": "markdown",
   "metadata": {},
   "source": [
    "## Utilmethods"
   ]
  },
  {
   "cell_type": "code",
   "execution_count": null,
   "metadata": {},
   "outputs": [],
   "source": [
    "def __tridiag(v1: float, v2: float, v3: float, N: int, k1: int = -1, k2: int = 0, k3: int = 1) -> np.ndarray:\n",
    "    return np.diag(np.full(N-abs(k1), v1), k1) + np.diag(np.full(N-abs(k2), v2), k2) + np.diag(np.full(N-abs(k3), v3), k3)\n",
    "\n",
    "\n",
    "def explicit_parabollic(h: float, k: float, K: float, tau0: float, a: float,\n",
    "                        r0: float, rf: float, t0: float, tf: float, u_t0: Callable, u_rf: Callable, u_devr0: Callable) -> Tuple[np.ndarray]:\n",
    "    r'''Computes, explicitly, a parabollic PDE of the kind:\n",
    "    :math: `$$\\begin{array}{l}\n",
    "                \\frac{du}{dt} = \\frac{d^2u}{dt^2} \\\\\n",
    "                u(r0,t) = u(rf,t) = 0 \\\\\n",
    "                u(x,t0) = u0\n",
    "                \\end{array}$$`\n",
    "\n",
    "    over the interval :math: `$[t0,tf]$` for a stepsize `h` in x and `k` in t,\n",
    "    with forward finite differences.\n",
    "\n",
    "    Note that the coefficient (`$1-2*k/h$`) should be nonnegative, otherwise\n",
    "    the errors will be magnified.\n",
    "\n",
    "    Args:\n",
    "        h (float): Step size in x.\n",
    "        k (float): Step size in t.\n",
    "        r0 (float): Initial position.\n",
    "        rf (float): Final position.\n",
    "        t0 (float): Initial time.\n",
    "        tf (float): Final time.\n",
    "        u0 (function): Function of x in t0. u(x, t0).\n",
    "\n",
    "    Returns:\n",
    "        Tuple[np.ndarray]: Solution of the PDE in those intervals, x mesh, t mesh.\n",
    "    '''\n",
    "    s = k/h**2\n",
    "\n",
    "    x = np.arange(r0, rf+h, h)\n",
    "    t = np.arange(t0, tf+h, h)\n",
    "\n",
    "    LEN_X = len(x)\n",
    "    LEN_T = len(t)\n",
    "\n",
    "    v1 = v3 = s\n",
    "    v2 = 1 - 2*s\n",
    "\n",
    "    m = __tridiag(v1, v2, v3, LEN_X)\n",
    "\n",
    "    sol = np.zeros((LEN_X, LEN_T))\n",
    "    sol[:, 0] = u0(x)\n",
    "    sol[0, 0] = sol[-1, 0] = 0\n",
    "\n",
    "    for ti in range(1, LEN_T):\n",
    "        sol[:, ti] = m @ sol[:, ti-1]\n",
    "\n",
    "    return sol, x, t\n"
   ]
  },
  {
   "cell_type": "markdown",
   "metadata": {},
   "source": [
    "## Question 2"
   ]
  },
  {
   "cell_type": "markdown",
   "metadata": {},
   "source": [
    "### Utilmethods"
   ]
  },
  {
   "cell_type": "code",
   "execution_count": 73,
   "metadata": {},
   "outputs": [],
   "source": [
    "\n",
    "def run_animation(dt, x, y):\n",
    "\n",
    "    fig = plt.figure()\n",
    "    ax = plt.axes(xlim=(-0.2, 1.2), ylim=(-0.025, 0.025))\n",
    "    line, = ax.plot([], [])\n",
    "\n",
    "    def init():\n",
    "        line.set_data([], [])\n",
    "        return line,\n",
    "\n",
    "    def animate(i, *fargs):\n",
    "        line.set_data(fargs[0], fargs[1][:, i])\n",
    "        return line,\n",
    "\n",
    "    return FuncAnimation(fig, animate, fargs=[x, y], init_func=init, frames=len(x), interval=20, blit=True)\n",
    "    \n",
    "\n",
    "\n",
    "def hyperbolic(h: float, k: float, x0: float, xf: float, t0: float, tf: float, u0: Callable) -> Tuple[np.ndarray]:\n",
    "    r'''Computes, a hyperbolic PDE of the kind:\n",
    "    :math: `$$\\begin{array}{l}\n",
    "                U_{tt}=U_{xx} \\\\\n",
    "                U(x0,t)=U(xf,t)=0 \\; \\textrm{ and } \\; \\frac{\\partial U}{\\partial t}(x, t0)=0 \\\\\n",
    "                U(x,t0)=u0(x) \\\\\n",
    "                \\end{array}$$`\n",
    "\n",
    "    over the interval :math: `$[t0,tf]$` for a stepsize `h` in x and `k` in t.\n",
    "\n",
    "    Args:\n",
    "        h (float): Step size in x.\n",
    "        k (float): Step size in t.\n",
    "        x0 (float): Initial position.\n",
    "        xf (float): Final position.\n",
    "        t0 (float): Initial time.\n",
    "        tf (float): Final time.\n",
    "        u0 (function): Function of x in t0. u(x, t0).\n",
    "\n",
    "    Returns:\n",
    "        Tuple[np.ndarray]: Solution of the PDE in those intervals, x mesh, t mesh.\n",
    "    '''\n",
    "    rho = (k/h)**2\n",
    "\n",
    "    x = np.arange(x0, xf+h, h)\n",
    "    t = np.arange(t0, tf+h, h)\n",
    "\n",
    "    LEN_X = len(x)\n",
    "    LEN_T = len(t)\n",
    "\n",
    "    sol = np.zeros((LEN_X, LEN_T))\n",
    "\n",
    "    sol[1:-1, 0] = u0(x)[1:-1]\n",
    "\n",
    "    sol[1:-1, 1] = 1/2 * rho * (u0(x+h)[1:-1] - u0(x-h)[1:-1]) + (1 - rho) * u0(x)[1:-1]\n",
    "\n",
    "    for ti in range(2, LEN_T):\n",
    "        sol[1:-1, ti] = rho*sol[2:, ti] + 2*(1 - rho)*sol[1:-1, ti] + rho*sol[:-2, ti]  - sol[1:-1, ti-1]\n",
    "\n",
    "    return sol, x, t\n",
    "\n",
    "\n",
    "def hyperbolic_wraper(dx: float, dt: float) -> Tuple[np.ndarray]:\n",
    "    return hyperbolic(h=dx, k=dt, x0=0, xf=1, t0=0, tf=100, u0=np.sin)"
   ]
  },
  {
   "cell_type": "markdown",
   "metadata": {},
   "source": [
    "\n",
    "### 1. Solve the equation using finite differences."
   ]
  },
  {
   "cell_type": "code",
   "execution_count": 74,
   "metadata": {},
   "outputs": [
    {
     "data": {
      "image/png": "[encoded data removed]",
      "text/plain": [
       "<Figure size 432x288 with 1 Axes>"
      ]
     },
     "metadata": {
      "needs_background": "light"
     },
     "output_type": "display_data"
    }
   ],
   "source": [
    "dx = 0.1\n",
    "sol, x, t = hyperbolic_wraper(dx, 0.1)\n",
    "\n",
    "anim = run_animation(dx, x, sol)\n",
    "plt.show()"
   ]
  },
  {
   "cell_type": "markdown",
   "metadata": {},
   "source": [
    "\n",
    "### 2. Solve the equation up to time $t=100$ with different time-steps $\\Delta t$ bigger, equal and smaller than the $\\Delta x$. Explain the results."
   ]
  },
  {
   "cell_type": "code",
   "execution_count": 76,
   "metadata": {},
   "outputs": [
    {
     "data": {
      "image/png": "[encoded data removed]",
      "text/plain": [
       "<Figure size 432x288 with 1 Axes>"
      ]
     },
     "metadata": {
      "needs_background": "light"
     },
     "output_type": "display_data"
    },
    {
     "data": {
      "image/png": "[encoded data removed]",
      "text/plain": [
       "<Figure size 432x288 with 1 Axes>"
      ]
     },
     "metadata": {
      "needs_background": "light"
     },
     "output_type": "display_data"
    },
    {
     "data": {
      "image/png": "[encoded data removed]",
      "text/plain": [
       "<Figure size 432x288 with 1 Axes>"
      ]
     },
     "metadata": {
      "needs_background": "light"
     },
     "output_type": "display_data"
    }
   ],
   "source": [
    "dt = 0.01\n",
    "dx = 0.001\n",
    "\n",
    "for _ in range(3):    \n",
    "    sol, x, t = hyperbolic_wraper(dx, 0.1)\n",
    "    plt.plot(x, sol[:, -1])\n",
    "    dt /= 10\n",
    "    plt.show()\n",
    "\n",
    "\n"
   ]
  }
 ],
 "metadata": {
  "kernelspec": {
   "display_name": "Python 3",
   "language": "python",
   "name": "python3"
  },
  "language_info": {
   "codemirror_mode": {
    "name": "ipython",
    "version": 3
   },
   "file_extension": ".py",
   "mimetype": "text/x-python",
   "name": "python",
   "nbconvert_exporter": "python",
   "pygments_lexer": "ipython3",
   "version": "3.10.4"
  }
 },
 "nbformat": 4,
 "nbformat_minor": 4
}
