{
 "cells": [
  {
   "cell_type": "markdown",
   "metadata": {},
   "source": [
    "Before you turn this problem in, make sure everything runs as expected. First, **restart the kernel** (in the menubar, select Kernel$\\rightarrow$Restart) and then **run all cells** (in the menubar, select Cell$\\rightarrow$Run All).\n",
    "\n",
    "Make sure you fill in any place that says `YOUR CODE HERE` or \"YOUR ANSWER HERE\", as well as your name and collaborators below:"
   ]
  },
  {
   "cell_type": "code",
   "execution_count": 2,
   "metadata": {},
   "outputs": [],
   "source": [
    "NAME = \"\"\n",
    "COLLABORATORS = \"\""
   ]
  },
  {
   "cell_type": "markdown",
   "metadata": {},
   "source": [
    "---"
   ]
  },
  {
   "cell_type": "markdown",
   "metadata": {},
   "source": [
    "# **Practice 12: Solving PDEs with finite differences**"
   ]
  },
  {
   "cell_type": "markdown",
   "metadata": {},
   "source": [
    "## Practice guide\n",
    "\n",
    "In this second graded practice you have to solve the exercises below. The codes you need to solve this problems are similar, but not the same, to some of the codes from the regular practices.\n",
    "\n",
    "You will have to handle a notebook with:\n",
    "\n",
    "* The working programs that solve the exercises. I will run all the codes.\n",
    "* An explanation of the methods you are using.\n",
    "* An explanation of your procedure to calculate the solutions.\n",
    "* An explanation of the results."
   ]
  },
  {
   "cell_type": "markdown",
   "metadata": {},
   "source": [
    "## 1- Temperature around a radiactive rod\n",
    "\n",
    "Let us suppose that we want to calculate the change in temperature around a radiactive rod buried on the ground. The temperature $T$ fulfills the following equation in polar coordinates:\n",
    "\n",
    "$$\\frac{1}{\\kappa}\\frac{\\partial T}{\\partial t}-\\frac{\\partial^2 T}{\\partial r^2}-\\frac{1}{r}\\frac{\\partial T}{\\partial r} = S(r, t)$$\n",
    "\n",
    "where the source term due to the radioactive decay of rod is given by:\n",
    "\n",
    "$$ S(r, t) = \\left\\{\\begin{array}{l}\n",
    "T_{rod}e^{−t/\\tau_0} /a^2 \\quad \\textrm{for}\\; r \\leq a \\\\\n",
    "0 \\qquad \\qquad \\quad \\textrm{elsewhere}.\n",
    "\\end{array}\\right.$$\n",
    "\n",
    "where the radius of the rod is $a = 25\\;cm$, the diffusion coefficient is $\\kappa = 2 \\cdot 10^7 \\;cm^2/year$, the rod's temperature is  $T_{rod} = 1K$, final time $\\tau_0 = 100\\; years$, the radius of the domain where we want to solve the equation is $r_c = 100\\;cm$, the environment's temperature is $T_E = 300\\;K$, $0 < r < r_c$ and $0 < t < \\tau_0$. Initially $T(r, t = 0) = 3$.\n",
    "\n",
    "This is complemented with the boundary conditions\n",
    "\n",
    "$$ \\frac{\\partial T}{\\partial r}(r = 0, t) = 0 \\; \\textrm{ and } \\; T(r = r_c, t) = 300K$$\n",
    "\n",
    "**Exercises:** \n",
    "\n",
    "1. Solve this equation using a finite differences method.\n"
   ]
  },
  {
   "cell_type": "markdown",
   "metadata": {},
   "source": [
    "## 2- Wave equation\n",
    "\n",
    "This is the wave equation with the corresponding initial conditions and periodic boundary conditions\n",
    "\n",
    "$$\\begin{array}{l}\n",
    "u_{tt}=u_{xx} \\\\\n",
    "u(x,0) = \\sin{(4\\pi x)} \\\\\n",
    "u_t(x,0)=0 \\\\\n",
    "u(0,t)=u(1,t)\n",
    "\\end{array} $$\n",
    "\n",
    "\n",
    "\n",
    "**Exercises:**\n",
    "\n",
    "1. Solve the equation using finite differences.\n",
    "2. Solve the equation up to time $t=100$ with different time-steps $\\Delta t$ bigger, equal and smaller than the $\\Delta x$. Explain the results."
   ]
  },
  {
   "cell_type": "markdown",
   "metadata": {},
   "source": [
    "# Solution"
   ]
  },
  {
   "cell_type": "markdown",
   "metadata": {},
   "source": [
    "### Imports"
   ]
  },
  {
   "cell_type": "code",
   "execution_count": 29,
   "metadata": {},
   "outputs": [
    {
     "ename": "ImportError",
     "evalue": "Numba needs NumPy 1.21 or less",
     "output_type": "error",
     "traceback": [
      "\u001b[1;31m---------------------------------------------------------------------------\u001b[0m",
      "\u001b[1;31mImportError\u001b[0m                               Traceback (most recent call last)",
      "\u001b[1;32mc:\\Users\\luisg\\Documents\\GitHub\\UC3M-NUMERICAL-METHODS-Graded-Practice-2\\src\\Graded_Practice_Two_Physics_21-22.ipynb Cell 10'\u001b[0m in \u001b[0;36m<cell line: 4>\u001b[1;34m()\u001b[0m\n\u001b[0;32m      <a href='vscode-notebook-cell:/c%3A/Users/luisg/Documents/GitHub/UC3M-NUMERICAL-METHODS-Graded-Practice-2/src/Graded_Practice_Two_Physics_21-22.ipynb#ch0000009?line=0'>1</a>\u001b[0m \u001b[39mfrom\u001b[39;00m \u001b[39mtyping\u001b[39;00m \u001b[39mimport\u001b[39;00m Callable, Tuple\n\u001b[0;32m      <a href='vscode-notebook-cell:/c%3A/Users/luisg/Documents/GitHub/UC3M-NUMERICAL-METHODS-Graded-Practice-2/src/Graded_Practice_Two_Physics_21-22.ipynb#ch0000009?line=2'>3</a>\u001b[0m \u001b[39mimport\u001b[39;00m \u001b[39mnumpy\u001b[39;00m \u001b[39mas\u001b[39;00m \u001b[39mnp\u001b[39;00m\n\u001b[1;32m----> <a href='vscode-notebook-cell:/c%3A/Users/luisg/Documents/GitHub/UC3M-NUMERICAL-METHODS-Graded-Practice-2/src/Graded_Practice_Two_Physics_21-22.ipynb#ch0000009?line=3'>4</a>\u001b[0m \u001b[39mfrom\u001b[39;00m \u001b[39mnumba\u001b[39;00m \u001b[39mimport\u001b[39;00m njit\n\u001b[0;32m      <a href='vscode-notebook-cell:/c%3A/Users/luisg/Documents/GitHub/UC3M-NUMERICAL-METHODS-Graded-Practice-2/src/Graded_Practice_Two_Physics_21-22.ipynb#ch0000009?line=5'>6</a>\u001b[0m \u001b[39mimport\u001b[39;00m \u001b[39mmatplotlib\u001b[39;00m\u001b[39m.\u001b[39;00m\u001b[39mpyplot\u001b[39;00m \u001b[39mas\u001b[39;00m \u001b[39mplt\u001b[39;00m\n\u001b[0;32m      <a href='vscode-notebook-cell:/c%3A/Users/luisg/Documents/GitHub/UC3M-NUMERICAL-METHODS-Graded-Practice-2/src/Graded_Practice_Two_Physics_21-22.ipynb#ch0000009?line=6'>7</a>\u001b[0m \u001b[39mfrom\u001b[39;00m \u001b[39mmatplotlib\u001b[39;00m\u001b[39m.\u001b[39;00m\u001b[39manimation\u001b[39;00m \u001b[39mimport\u001b[39;00m  FuncAnimation\n",
      "File \u001b[1;32mc:\\Users\\luisg\\Documents\\GitHub\\UC3M-NUMERICAL-METHODS-Graded-Practice-2\\venv\\lib\\site-packages\\numba\\__init__.py:200\u001b[0m, in \u001b[0;36m<module>\u001b[1;34m\u001b[0m\n\u001b[0;32m    <a href='file:///c%3A/Users/luisg/Documents/GitHub/UC3M-NUMERICAL-METHODS-Graded-Practice-2/venv/lib/site-packages/numba/__init__.py?line=196'>197</a>\u001b[0m     \u001b[39mreturn\u001b[39;00m \u001b[39mFalse\u001b[39;00m\n\u001b[0;32m    <a href='file:///c%3A/Users/luisg/Documents/GitHub/UC3M-NUMERICAL-METHODS-Graded-Practice-2/venv/lib/site-packages/numba/__init__.py?line=198'>199</a>\u001b[0m _ensure_llvm()\n\u001b[1;32m--> <a href='file:///c%3A/Users/luisg/Documents/GitHub/UC3M-NUMERICAL-METHODS-Graded-Practice-2/venv/lib/site-packages/numba/__init__.py?line=199'>200</a>\u001b[0m _ensure_critical_deps()\n\u001b[0;32m    <a href='file:///c%3A/Users/luisg/Documents/GitHub/UC3M-NUMERICAL-METHODS-Graded-Practice-2/venv/lib/site-packages/numba/__init__.py?line=201'>202</a>\u001b[0m \u001b[39m# we know llvmlite is working as the above tests passed, import it now as SVML\u001b[39;00m\n\u001b[0;32m    <a href='file:///c%3A/Users/luisg/Documents/GitHub/UC3M-NUMERICAL-METHODS-Graded-Practice-2/venv/lib/site-packages/numba/__init__.py?line=202'>203</a>\u001b[0m \u001b[39m# needs to mutate runtime options (sets the `-vector-library`).\u001b[39;00m\n\u001b[0;32m    <a href='file:///c%3A/Users/luisg/Documents/GitHub/UC3M-NUMERICAL-METHODS-Graded-Practice-2/venv/lib/site-packages/numba/__init__.py?line=203'>204</a>\u001b[0m \u001b[39mimport\u001b[39;00m \u001b[39mllvmlite\u001b[39;00m\n",
      "File \u001b[1;32mc:\\Users\\luisg\\Documents\\GitHub\\UC3M-NUMERICAL-METHODS-Graded-Practice-2\\venv\\lib\\site-packages\\numba\\__init__.py:140\u001b[0m, in \u001b[0;36m_ensure_critical_deps\u001b[1;34m()\u001b[0m\n\u001b[0;32m    <a href='file:///c%3A/Users/luisg/Documents/GitHub/UC3M-NUMERICAL-METHODS-Graded-Practice-2/venv/lib/site-packages/numba/__init__.py?line=137'>138</a>\u001b[0m     \u001b[39mraise\u001b[39;00m \u001b[39mImportError\u001b[39;00m(\u001b[39m\"\u001b[39m\u001b[39mNumba needs NumPy 1.18 or greater\u001b[39m\u001b[39m\"\u001b[39m)\n\u001b[0;32m    <a href='file:///c%3A/Users/luisg/Documents/GitHub/UC3M-NUMERICAL-METHODS-Graded-Practice-2/venv/lib/site-packages/numba/__init__.py?line=138'>139</a>\u001b[0m \u001b[39melif\u001b[39;00m numpy_version \u001b[39m>\u001b[39m (\u001b[39m1\u001b[39m, \u001b[39m21\u001b[39m):\n\u001b[1;32m--> <a href='file:///c%3A/Users/luisg/Documents/GitHub/UC3M-NUMERICAL-METHODS-Graded-Practice-2/venv/lib/site-packages/numba/__init__.py?line=139'>140</a>\u001b[0m     \u001b[39mraise\u001b[39;00m \u001b[39mImportError\u001b[39;00m(\u001b[39m\"\u001b[39m\u001b[39mNumba needs NumPy 1.21 or less\u001b[39m\u001b[39m\"\u001b[39m)\n\u001b[0;32m    <a href='file:///c%3A/Users/luisg/Documents/GitHub/UC3M-NUMERICAL-METHODS-Graded-Practice-2/venv/lib/site-packages/numba/__init__.py?line=141'>142</a>\u001b[0m \u001b[39mtry\u001b[39;00m:\n\u001b[0;32m    <a href='file:///c%3A/Users/luisg/Documents/GitHub/UC3M-NUMERICAL-METHODS-Graded-Practice-2/venv/lib/site-packages/numba/__init__.py?line=142'>143</a>\u001b[0m     \u001b[39mimport\u001b[39;00m \u001b[39mscipy\u001b[39;00m\n",
      "\u001b[1;31mImportError\u001b[0m: Numba needs NumPy 1.21 or less"
     ]
    }
   ],
   "source": [
    "from typing import Callable, Tuple\n",
    "\n",
    "import numpy as np\n",
    "from numba import njit\n",
    "\n",
    "import matplotlib.pyplot as plt\n",
    "from matplotlib.animation import  FuncAnimation"
   ]
  },
  {
   "cell_type": "markdown",
   "metadata": {},
   "source": [
    "## Question 1"
   ]
  },
  {
   "cell_type": "markdown",
   "metadata": {},
   "source": [
    "## Utilmethods"
   ]
  },
  {
   "cell_type": "code",
   "execution_count": 26,
   "metadata": {},
   "outputs": [
    {
     "ename": "NameError",
     "evalue": "name 'njit' is not defined",
     "output_type": "error",
     "traceback": [
      "\u001b[1;31m---------------------------------------------------------------------------\u001b[0m",
      "\u001b[1;31mNameError\u001b[0m                                 Traceback (most recent call last)",
      "\u001b[1;32mc:\\Users\\luisg\\Documents\\GitHub\\UC3M-NUMERICAL-METHODS-Graded-Practice-2\\src\\Graded_Practice_Two_Physics_21-22.ipynb Cell 13'\u001b[0m in \u001b[0;36m<cell line: 5>\u001b[1;34m()\u001b[0m\n\u001b[0;32m      <a href='vscode-notebook-cell:/c%3A/Users/luisg/Documents/GitHub/UC3M-NUMERICAL-METHODS-Graded-Practice-2/src/Graded_Practice_Two_Physics_21-22.ipynb#ch0000011?line=0'>1</a>\u001b[0m \u001b[39mdef\u001b[39;00m \u001b[39m__tridiag\u001b[39m(v1: \u001b[39mfloat\u001b[39m, v2: \u001b[39mfloat\u001b[39m, v3: \u001b[39mfloat\u001b[39m, N: \u001b[39mint\u001b[39m, k1: \u001b[39mint\u001b[39m \u001b[39m=\u001b[39m \u001b[39m-\u001b[39m\u001b[39m1\u001b[39m, k2: \u001b[39mint\u001b[39m \u001b[39m=\u001b[39m \u001b[39m0\u001b[39m, k3: \u001b[39mint\u001b[39m \u001b[39m=\u001b[39m \u001b[39m1\u001b[39m) \u001b[39m-\u001b[39m\u001b[39m>\u001b[39m np\u001b[39m.\u001b[39mndarray:\n\u001b[0;32m      <a href='vscode-notebook-cell:/c%3A/Users/luisg/Documents/GitHub/UC3M-NUMERICAL-METHODS-Graded-Practice-2/src/Graded_Practice_Two_Physics_21-22.ipynb#ch0000011?line=1'>2</a>\u001b[0m     \u001b[39mreturn\u001b[39;00m np\u001b[39m.\u001b[39mdiag(np\u001b[39m.\u001b[39mfull(N\u001b[39m-\u001b[39m\u001b[39mabs\u001b[39m(k1), v1), k1) \u001b[39m+\u001b[39m np\u001b[39m.\u001b[39mdiag(np\u001b[39m.\u001b[39mfull(N\u001b[39m-\u001b[39m\u001b[39mabs\u001b[39m(k2), v2), k2) \u001b[39m+\u001b[39m np\u001b[39m.\u001b[39mdiag(np\u001b[39m.\u001b[39mfull(N\u001b[39m-\u001b[39m\u001b[39mabs\u001b[39m(k3), v3), k3)\n\u001b[1;32m----> <a href='vscode-notebook-cell:/c%3A/Users/luisg/Documents/GitHub/UC3M-NUMERICAL-METHODS-Graded-Practice-2/src/Graded_Practice_Two_Physics_21-22.ipynb#ch0000011?line=4'>5</a>\u001b[0m \u001b[39m@njit\u001b[39m\n\u001b[0;32m      <a href='vscode-notebook-cell:/c%3A/Users/luisg/Documents/GitHub/UC3M-NUMERICAL-METHODS-Graded-Practice-2/src/Graded_Practice_Two_Physics_21-22.ipynb#ch0000011?line=5'>6</a>\u001b[0m \u001b[39mdef\u001b[39;00m \u001b[39mt_radiactive_rod\u001b[39m(h: \u001b[39mfloat\u001b[39m, k: \u001b[39mfloat\u001b[39m, K: \u001b[39mfloat\u001b[39m, tau0: \u001b[39mfloat\u001b[39m, a: \u001b[39mfloat\u001b[39m,\n\u001b[0;32m      <a href='vscode-notebook-cell:/c%3A/Users/luisg/Documents/GitHub/UC3M-NUMERICAL-METHODS-Graded-Practice-2/src/Graded_Practice_Two_Physics_21-22.ipynb#ch0000011?line=6'>7</a>\u001b[0m                      r0: \u001b[39mfloat\u001b[39m, rf: \u001b[39mfloat\u001b[39m, t0: \u001b[39mfloat\u001b[39m, tf: \u001b[39mfloat\u001b[39m, u_t0: Callable,\n\u001b[0;32m      <a href='vscode-notebook-cell:/c%3A/Users/luisg/Documents/GitHub/UC3M-NUMERICAL-METHODS-Graded-Practice-2/src/Graded_Practice_Two_Physics_21-22.ipynb#ch0000011?line=7'>8</a>\u001b[0m                      u_rf: Callable, u_devr0: Callable) \u001b[39m-\u001b[39m\u001b[39m>\u001b[39m Tuple[np\u001b[39m.\u001b[39mndarray]:\n\u001b[0;32m     <a href='vscode-notebook-cell:/c%3A/Users/luisg/Documents/GitHub/UC3M-NUMERICAL-METHODS-Graded-Practice-2/src/Graded_Practice_Two_Physics_21-22.ipynb#ch0000011?line=9'>10</a>\u001b[0m     s \u001b[39m=\u001b[39m k\u001b[39m*\u001b[39mK\n\u001b[0;32m     <a href='vscode-notebook-cell:/c%3A/Users/luisg/Documents/GitHub/UC3M-NUMERICAL-METHODS-Graded-Practice-2/src/Graded_Practice_Two_Physics_21-22.ipynb#ch0000011?line=11'>12</a>\u001b[0m     r \u001b[39m=\u001b[39m np\u001b[39m.\u001b[39marange(r0, rf\u001b[39m+\u001b[39mh, h)\n",
      "\u001b[1;31mNameError\u001b[0m: name 'njit' is not defined"
     ]
    }
   ],
   "source": [
    "def __tridiag(v1: float, v2: float, v3: float, N: int, k1: int = -1, k2: int = 0, k3: int = 1) -> np.ndarray:\n",
    "    return np.diag(np.full(N-abs(k1), v1), k1) + np.diag(np.full(N-abs(k2), v2), k2) + np.diag(np.full(N-abs(k3), v3), k3)\n",
    "\n",
    "\n",
    "@njit\n",
    "def t_radiactive_rod(h: float, k: float, K: float, tau0: float, a: float,\n",
    "                     r0: float, rf: float, t0: float, tf: float, u_t0: Callable,\n",
    "                     u_rf: Callable, u_devr0: Callable) -> Tuple[np.ndarray]:\n",
    "\n",
    "    s = k*K\n",
    "\n",
    "    r = np.arange(r0, rf+h, h)\n",
    "    t = np.arange(t0, tf+k, k)\n",
    "\n",
    "    LEN_R = len(r)\n",
    "    LEN_T = len(t)\n",
    "\n",
    "    v1 = s/h**2 - s/(2*h)\n",
    "    v2 = 1 - 2*s/h**2 + s/(2*h)\n",
    "    v3 = s/h**2\n",
    "\n",
    "    @njit\n",
    "    def c(r:np.ndarray, t:float) -> float:    \n",
    "        return np.array([- s/a**2 * np.exp(- t/tau0) if ri <= a else 0 for ri in r ])\n",
    "\n",
    "    m = __tridiag(v1, v2, v3, LEN_R-1) #-1 is to take into account the boundary condition\n",
    "\n",
    "    sol = np.zeros((LEN_R, LEN_T))\n",
    "    sol[:, 0] = u_t0(r)\n",
    "    sol[-1, :] = u_rf(r)\n",
    "\n",
    "    for ti in range(1, LEN_T):\n",
    "        sol[:-1, ti] = m @ sol[:-1, ti-1] + c(r=sol[:-1, ti-1], t=ti-1) # :-1 is to take into account the boundary condition\n",
    "\n",
    "    return sol, r, t\n",
    "\n",
    "def t_radiactive_rod_wraper(h: float, k: float, K: float = 2*10**27, tau0: float = 100, a: float = 25,\n",
    "                     r0: float = 0, rf: float = 100, t0: float = 0, tf: float = 100, u_t0: Callable = lambda r: 3,\n",
    "                     u_rf: Callable = lambda t: 300, u_devr0: Callable = lambda t: 0) -> Tuple[np.ndarray]:\n",
    "    \n",
    "    return t_radiactive_rod(h=h, k=k, K=K, tau0=tau0, a=a, r0=r0, rf=rf, t0=t0, tf=tf, u_t0=u_t0,\n",
    "                            u_rf=u_rf, u_devr0=u_devr0)"
   ]
  },
  {
   "cell_type": "code",
   "execution_count": 25,
   "metadata": {},
   "outputs": [
    {
     "name": "stderr",
     "output_type": "stream",
     "text": [
      "C:\\Users\\luisg\\AppData\\Local\\Temp\\ipykernel_7072\\2056232734.py:31: RuntimeWarning: overflow encountered in matmul\n",
      "  sol[:-1, ti] = m @ sol[:-1, ti-1] + c(r=sol[:-1, ti-1], t=ti-1) # :-1 is to take into account the boundary condition\n",
      "C:\\Users\\luisg\\AppData\\Local\\Temp\\ipykernel_7072\\2056232734.py:31: RuntimeWarning: invalid value encountered in matmul\n",
      "  sol[:-1, ti] = m @ sol[:-1, ti-1] + c(r=sol[:-1, ti-1], t=ti-1) # :-1 is to take into account the boundary condition\n"
     ]
    },
    {
     "data": {
      "image/png": "[encoded data removed]",
      "text/plain": [
       "<Figure size 432x288 with 1 Axes>"
      ]
     },
     "metadata": {
      "needs_background": "light"
     },
     "output_type": "display_data"
    },
    {
     "data": {
      "image/png": "[encoded data removed]",
      "text/plain": [
       "<Figure size 432x288 with 1 Axes>"
      ]
     },
     "metadata": {
      "needs_background": "light"
     },
     "output_type": "display_data"
    },
    {
     "data": {
      "image/png": "[encoded data removed]",
      "text/plain": [
       "<Figure size 432x288 with 1 Axes>"
      ]
     },
     "metadata": {
      "needs_background": "light"
     },
     "output_type": "display_data"
    }
   ],
   "source": [
    "dt = 0.1\n",
    "dr = 0.1\n",
    "\n",
    "for _ in range(3):    \n",
    "    sol, x, t = t_radiactive_rod_wraper(dr, dt)\n",
    "    plt.plot(x, sol[:, -1])\n",
    "    dt /= 10\n",
    "    plt.show()"
   ]
  },
  {
   "cell_type": "markdown",
   "metadata": {},
   "source": [
    "## Question 2"
   ]
  },
  {
   "cell_type": "markdown",
   "metadata": {},
   "source": [
    "### Utilmethods"
   ]
  },
  {
   "cell_type": "code",
   "execution_count": null,
   "metadata": {},
   "outputs": [],
   "source": [
    "\n",
    "def run_animation(dt, x, y):\n",
    "\n",
    "    fig = plt.figure()\n",
    "    ax = plt.axes(xlim=(-0.2, 1.2), ylim=(-0.025, 0.025))\n",
    "    line, = ax.plot([], [])\n",
    "\n",
    "    def init():\n",
    "        line.set_data([], [])\n",
    "        return line,\n",
    "\n",
    "    def animate(i, *fargs):\n",
    "        line.set_data(fargs[0], fargs[1][:, i])\n",
    "        return line,\n",
    "\n",
    "    return FuncAnimation(fig, animate, fargs=[x, y], init_func=init, frames=len(x), interval=20, blit=True)\n",
    "    \n",
    "\n",
    "\n",
    "def hyperbolic(h: float, k: float, x0: float, xf: float, t0: float, tf: float, u0: Callable) -> Tuple[np.ndarray]:\n",
    "    r'''Computes, a hyperbolic PDE of the kind:\n",
    "    :math: `$$\\begin{array}{l}\n",
    "                U_{tt}=U_{xx} \\\\\n",
    "                U(x0,t)=U(xf,t)=0 \\; \\textrm{ and } \\; \\frac{\\partial U}{\\partial t}(x, t0)=0 \\\\\n",
    "                U(x,t0)=u0(x) \\\\\n",
    "                \\end{array}$$`\n",
    "\n",
    "    over the interval :math: `$[t0,tf]$` for a stepsize `h` in x and `k` in t.\n",
    "\n",
    "    Args:\n",
    "        h (float): Step size in x.\n",
    "        k (float): Step size in t.\n",
    "        x0 (float): Initial position.\n",
    "        xf (float): Final position.\n",
    "        t0 (float): Initial time.\n",
    "        tf (float): Final time.\n",
    "        u0 (function): Function of x in t0. u(x, t0).\n",
    "\n",
    "    Returns:\n",
    "        Tuple[np.ndarray]: Solution of the PDE in those intervals, x mesh, t mesh.\n",
    "    '''\n",
    "    rho = (k/h)**2\n",
    "\n",
    "    x = np.arange(x0, xf+h, h)\n",
    "    t = np.arange(t0, tf+h, h)\n",
    "\n",
    "    LEN_X = len(x)\n",
    "    LEN_T = len(t)\n",
    "\n",
    "    sol = np.zeros((LEN_X, LEN_T))\n",
    "\n",
    "    sol[1:-1, 0] = u0(x)[1:-1]\n",
    "\n",
    "    sol[1:-1, 1] = 1/2 * rho * (u0(x+h)[1:-1] - u0(x-h)[1:-1]) + (1 - rho) * u0(x)[1:-1]\n",
    "\n",
    "    for ti in range(2, LEN_T):\n",
    "        sol[1:-1, ti] = rho*sol[2:, ti] + 2*(1 - rho)*sol[1:-1, ti] + rho*sol[:-2, ti]  - sol[1:-1, ti-1]\n",
    "\n",
    "    return sol, x, t\n",
    "\n",
    "\n",
    "def hyperbolic_wraper(dx: float, dt: float) -> Tuple[np.ndarray]:\n",
    "    return hyperbolic(h=dx, k=dt, x0=0, xf=1, t0=0, tf=100, u0=np.sin)"
   ]
  },
  {
   "cell_type": "markdown",
   "metadata": {},
   "source": [
    "\n",
    "### 1. Solve the equation using finite differences."
   ]
  },
  {
   "cell_type": "code",
   "execution_count": null,
   "metadata": {},
   "outputs": [
    {
     "data": {
      "image/png": "[encoded data removed]",
      "text/plain": [
       "<Figure size 432x288 with 1 Axes>"
      ]
     },
     "metadata": {
      "needs_background": "light"
     },
     "output_type": "display_data"
    }
   ],
   "source": [
    "dx = 0.1\n",
    "sol, x, t = hyperbolic_wraper(dx, 0.1)\n",
    "\n",
    "anim = run_animation(dx, x, sol)\n",
    "plt.show()"
   ]
  },
  {
   "cell_type": "markdown",
   "metadata": {},
   "source": [
    "\n",
    "### 2. Solve the equation up to time $t=100$ with different time-steps $\\Delta t$ bigger, equal and smaller than the $\\Delta x$. Explain the results."
   ]
  },
  {
   "cell_type": "code",
   "execution_count": null,
   "metadata": {},
   "outputs": [
    {
     "data": {
      "image/png": "[encoded data removed]",
      "text/plain": [
       "<Figure size 432x288 with 1 Axes>"
      ]
     },
     "metadata": {
      "needs_background": "light"
     },
     "output_type": "display_data"
    },
    {
     "data": {
      "image/png": "[encoded data removed]",
      "text/plain": [
       "<Figure size 432x288 with 1 Axes>"
      ]
     },
     "metadata": {
      "needs_background": "light"
     },
     "output_type": "display_data"
    },
    {
     "data": {
      "image/png": "[encoded data removed]",
      "text/plain": [
       "<Figure size 432x288 with 1 Axes>"
      ]
     },
     "metadata": {
      "needs_background": "light"
     },
     "output_type": "display_data"
    }
   ],
   "source": [
    "dt = 0.01\n",
    "dx = 0.001\n",
    "\n",
    "for _ in range(3):    \n",
    "    sol, x, t = hyperbolic_wraper(dx, 0.1)\n",
    "    plt.plot(x, sol[:, -1])\n",
    "    dt /= 10\n",
    "    plt.show()\n",
    "\n",
    "\n"
   ]
  }
 ],
 "metadata": {
  "kernelspec": {
   "display_name": "Python 3",
   "language": "python",
   "name": "python3"
  },
  "language_info": {
   "codemirror_mode": {
    "name": "ipython",
    "version": 3
   },
   "file_extension": ".py",
   "mimetype": "text/x-python",
   "name": "python",
   "nbconvert_exporter": "python",
   "pygments_lexer": "ipython3",
   "version": "3.9.12"
  }
 },
 "nbformat": 4,
 "nbformat_minor": 4
}
